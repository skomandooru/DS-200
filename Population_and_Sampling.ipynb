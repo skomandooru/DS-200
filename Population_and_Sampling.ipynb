{
  "nbformat": 4,
  "nbformat_minor": 0,
  "metadata": {
    "kernelspec": {
      "name": "python3",
      "display_name": "Python 3"
    },
    "colab": {
      "name": "Population_and_Sampling.ipynb",
      "provenance": [],
      "collapsed_sections": [],
      "include_colab_link": true
    }
  },
  "cells": [
    {
      "cell_type": "markdown",
      "metadata": {
        "id": "view-in-github",
        "colab_type": "text"
      },
      "source": [
        "<a href=\"https://colab.research.google.com/github/skomandooru/DS-Projects/blob/main/Population_and_Sampling.ipynb\" target=\"_parent\"><img src=\"https://colab.research.google.com/assets/colab-badge.svg\" alt=\"Open In Colab\"/></a>"
      ]
    },
    {
      "cell_type": "markdown",
      "metadata": {
        "id": "ssB8TDxfHLS1"
      },
      "source": [
        "### Population and Sampling\n",
        "\n",
        "- **Population**: a set of all elements from whom a sample will be drawn. Population data is sampled deterministically or probabilistically.\n",
        "- **Probability Sample**: A sample drawn from choosing elements randomly from a population. All elements have equal chance of being selected.\n",
        "- **Empirical distribution**: Distributions of observed data from a population. In empirical distribution, when we pick data from a random sample or a set of observed values, the observed value is referred to as the population.\n",
        "\n",
        "### Objectives\n",
        "Understand python and numpy functions for sampling and random selection.\n",
        " - **np.random.choice(array, repeats)** : Choice an item randomly from an array\n",
        " - **np.random.rand(size)** : Build a random array of a set size\n",
        " - **np.random.randint(range, optional size)** : Select a random integer or array from a set range and an optional size (default = 1)\n",
        " - **np.random.uniform (start, end)** : Picking data uniformly from a range of values. Returns floating point numbers. \n",
        " - **np.count_nozero(conditional expression)**: Count the number of instances that evaluate to a true.\n",
        " - **np.append(array, value)**: Augenting array with values\n",
        " - **Table.Sample(size)**: Sample records from a table\n",
        "\n",
        "References\n",
        "- **Chapter 10**: Sampling and Empirical Distributions (https://www.inferentialthinking.com/chapters/10/Sampling_and_Empirical_Distributions.html)\n"
      ]
    },
    {
      "cell_type": "code",
      "metadata": {
        "trusted": true,
        "id": "VUqRrnDEHLS3"
      },
      "source": [
        "# to hide output of this cell\n",
        "%%capture\n",
        "\n",
        "!pip install datascience # Install the package"
      ],
      "execution_count": 1,
      "outputs": []
    },
    {
      "cell_type": "code",
      "metadata": {
        "trusted": true,
        "scrolled": true,
        "id": "iAz_SrDoHLTC"
      },
      "source": [
        "# to hide output of this cell\n",
        "%%capture\n",
        "\n",
        "# Install all the packages from the data science module\n",
        "from datascience import *\n",
        "\n",
        "# Import the Matplotlib\n",
        "import matplotlib\n",
        "\n",
        "# Sets the matplotlib render \n",
        "matplotlib.use('Agg')\n",
        "\n",
        "# Set the outputting of plotting commands to display inline direcctly below the cell.\n",
        "# Also forces the result to be stored in the notebook document.\n",
        "%matplotlib inline\n",
        "\n",
        "# Import the numpy and pylot libraries\n",
        "import matplotlib.pyplot as plt\n",
        "import numpy as np\n",
        "\n",
        "# Set the pyplot plotting style.\n",
        "# Reference: https://www.dataquest.io/blog/making-538-plots/\n",
        "plt.style.use('fivethirtyeight')"
      ],
      "execution_count": 2,
      "outputs": []
    },
    {
      "cell_type": "code",
      "metadata": {
        "trusted": true,
        "scrolled": false,
        "id": "zyjjXchhHLTI",
        "colab": {
          "base_uri": "https://localhost:8080/"
        },
        "outputId": "7f057900-d499-48cc-e923-51e04fd59550"
      },
      "source": [
        "# Pick a deterministic sequence of 20 items\n",
        "deterministic_sequence = make_array(np.arange(20))\n",
        "deterministic_sequence"
      ],
      "execution_count": 3,
      "outputs": [
        {
          "output_type": "execute_result",
          "data": {
            "text/plain": [
              "array([[ 0,  1,  2,  3,  4,  5,  6,  7,  8,  9, 10, 11, 12, 13, 14, 15,\n",
              "        16, 17, 18, 19]])"
            ]
          },
          "metadata": {},
          "execution_count": 3
        }
      ]
    },
    {
      "cell_type": "code",
      "metadata": {
        "trusted": true,
        "id": "jsKJ-ATxHLTS",
        "colab": {
          "base_uri": "https://localhost:8080/"
        },
        "outputId": "e1ba0b0b-d819-484e-e399-9210e3498353"
      },
      "source": [
        "faces_of_die = make_array(1, 2, 3, 4, 5, 6)\n",
        "np.random.choice(faces_of_die)"
      ],
      "execution_count": 4,
      "outputs": [
        {
          "output_type": "execute_result",
          "data": {
            "text/plain": [
              "2"
            ]
          },
          "metadata": {},
          "execution_count": 4
        }
      ]
    },
    {
      "cell_type": "code",
      "metadata": {
        "trusted": true,
        "id": "TFU7UPKDHLTa",
        "colab": {
          "base_uri": "https://localhost:8080/"
        },
        "outputId": "4d534978-275b-4a5e-97e2-3b102872a619"
      },
      "source": [
        "# Repeats the selection 3 times.\n",
        "np.random.choice(faces_of_die, 3)"
      ],
      "execution_count": 5,
      "outputs": [
        {
          "output_type": "execute_result",
          "data": {
            "text/plain": [
              "array([6, 1, 5])"
            ]
          },
          "metadata": {},
          "execution_count": 5
        }
      ]
    },
    {
      "cell_type": "code",
      "metadata": {
        "trusted": true,
        "scrolled": false,
        "id": "deGorIzeHLTk",
        "colab": {
          "base_uri": "https://localhost:8080/"
        },
        "outputId": "01efece2-1dd8-408c-d363-02db5a661aee"
      },
      "source": [
        "# Build a random sequence of a specified size\n",
        "dt_size = 100\n",
        "random_measures = np.random.rand(dt_size)\n",
        "random_measures"
      ],
      "execution_count": 6,
      "outputs": [
        {
          "output_type": "execute_result",
          "data": {
            "text/plain": [
              "array([0.36075658, 0.38735299, 0.53303107, 0.99003929, 0.45381091,\n",
              "       0.80833461, 0.57672126, 0.89491668, 0.1376745 , 0.80648938,\n",
              "       0.36758311, 0.81971713, 0.03450311, 0.22832936, 0.85731946,\n",
              "       0.22431711, 0.15034253, 0.83524918, 0.62728015, 0.45342822,\n",
              "       0.50690852, 0.94079463, 0.24670003, 0.32905198, 0.84394834,\n",
              "       0.11350539, 0.87466206, 0.13068659, 0.02085906, 0.98238521,\n",
              "       0.72700112, 0.5551549 , 0.60091696, 0.05976887, 0.32790002,\n",
              "       0.18437162, 0.67269147, 0.98523535, 0.85267648, 0.49518186,\n",
              "       0.96103295, 0.4445035 , 0.8997504 , 0.80544728, 0.61552138,\n",
              "       0.02983374, 0.11042285, 0.98500198, 0.36409759, 0.84521451,\n",
              "       0.79052146, 0.64616352, 0.92106718, 0.17625494, 0.92118734,\n",
              "       0.38022417, 0.74496853, 0.52863816, 0.59536919, 0.89348747,\n",
              "       0.2411661 , 0.17849496, 0.78085994, 0.19447422, 0.84869109,\n",
              "       0.99137289, 0.49697789, 0.95220501, 0.86303253, 0.64065642,\n",
              "       0.13701648, 0.18922503, 0.99087257, 0.05586376, 0.51704398,\n",
              "       0.55090056, 0.72222717, 0.29691286, 0.71296712, 0.82747336,\n",
              "       0.73740246, 0.71431691, 0.06817956, 0.75196911, 0.90898854,\n",
              "       0.79637191, 0.05483097, 0.08203849, 0.40273583, 0.25251369,\n",
              "       0.73480528, 0.43265003, 0.06664876, 0.5746968 , 0.81326408,\n",
              "       0.25412391, 0.53550535, 0.28056574, 0.6322863 , 0.85727226])"
            ]
          },
          "metadata": {},
          "execution_count": 6
        }
      ]
    },
    {
      "cell_type": "code",
      "metadata": {
        "trusted": true,
        "id": "qHtGtZfAHLTs",
        "colab": {
          "base_uri": "https://localhost:8080/"
        },
        "outputId": "8b6ce3c5-f69c-4a74-da89-5eb143bb97b6"
      },
      "source": [
        "# Picking an item randomly from an array \n",
        "# This type of sampling can repeat a value.\n",
        "np.random.choice(np.arange(100))"
      ],
      "execution_count": 7,
      "outputs": [
        {
          "output_type": "execute_result",
          "data": {
            "text/plain": [
              "33"
            ]
          },
          "metadata": {},
          "execution_count": 7
        }
      ]
    },
    {
      "cell_type": "code",
      "metadata": {
        "trusted": true,
        "id": "sIW_lM57HLT3",
        "colab": {
          "base_uri": "https://localhost:8080/"
        },
        "outputId": "9f40a9a1-e547-419a-b9fb-d2557f55c1f4"
      },
      "source": [
        "np.random.choice(np.arange(100), 10)"
      ],
      "execution_count": 8,
      "outputs": [
        {
          "output_type": "execute_result",
          "data": {
            "text/plain": [
              "array([95, 24, 80,  1,  9, 97,  3, 37, 46, 51])"
            ]
          },
          "metadata": {},
          "execution_count": 8
        }
      ]
    },
    {
      "cell_type": "code",
      "metadata": {
        "trusted": true,
        "scrolled": true,
        "id": "uoqH9E-zHLT9",
        "colab": {
          "base_uri": "https://localhost:8080/"
        },
        "outputId": "dadc3d51-b2a0-4468-f21d-2cd8e96c9a92"
      },
      "source": [
        "# Or we can simply use the Numpy random int function\n",
        "# Repeats are also possible.\n",
        "\n",
        "random_measures = np.random.randint(100)\n",
        "random_measures"
      ],
      "execution_count": 9,
      "outputs": [
        {
          "output_type": "execute_result",
          "data": {
            "text/plain": [
              "58"
            ]
          },
          "metadata": {},
          "execution_count": 9
        }
      ]
    },
    {
      "cell_type": "code",
      "metadata": {
        "trusted": true,
        "id": "-ZOXN9-SHLUF",
        "colab": {
          "base_uri": "https://localhost:8080/"
        },
        "outputId": "5f30e40e-87e7-42ef-caf5-2452fb39cb2c"
      },
      "source": [
        "# Randomly build a collection or array of a set size over a range of values.\n",
        "random_indexes = np.random.randint(10000, size=20)\n",
        "random_indexes"
      ],
      "execution_count": 10,
      "outputs": [
        {
          "output_type": "execute_result",
          "data": {
            "text/plain": [
              "array([5008, 2216, 5268, 6066, 5973, 8311, 3481, 9388, 3629, 2004, 1227,\n",
              "       6144, 4344, 7746,  446, 9228, 2251, 6838, 2197, 3552])"
            ]
          },
          "metadata": {},
          "execution_count": 10
        }
      ]
    },
    {
      "cell_type": "code",
      "metadata": {
        "trusted": true,
        "id": "F3f9zXpcHLUL",
        "colab": {
          "base_uri": "https://localhost:8080/"
        },
        "outputId": "bfb61b9d-93ed-465b-c1e6-3a64e001776f"
      },
      "source": [
        "# Picking data uniformly from a range of values.\n",
        "random_measures = np.random.uniform(50, 100)\n",
        "random_measures"
      ],
      "execution_count": 11,
      "outputs": [
        {
          "output_type": "execute_result",
          "data": {
            "text/plain": [
              "61.205956793557306"
            ]
          },
          "metadata": {},
          "execution_count": 11
        }
      ]
    },
    {
      "cell_type": "code",
      "metadata": {
        "trusted": true,
        "id": "6_YQKXNVHLUV",
        "colab": {
          "base_uri": "https://localhost:8080/"
        },
        "outputId": "21c54bd5-52f3-423d-8bd5-a0b35e4ae46b"
      },
      "source": [
        "np.count_nonzero(random_indexes < 1000)"
      ],
      "execution_count": 12,
      "outputs": [
        {
          "output_type": "execute_result",
          "data": {
            "text/plain": [
              "1"
            ]
          },
          "metadata": {},
          "execution_count": 12
        }
      ]
    },
    {
      "cell_type": "code",
      "metadata": {
        "trusted": true,
        "id": "jy7TUx1uHLUc",
        "colab": {
          "base_uri": "https://localhost:8080/"
        },
        "outputId": "58f6b14a-4607-42e4-9117-a2517fe2ddd5"
      },
      "source": [
        "# Augumenting arrays with np.append\n",
        "def roll_dice():\n",
        "    return np.random.choice(np.arange(1, 7))\n",
        "\n",
        "sampled_data = make_array()\n",
        "\n",
        "repetitions = 100\n",
        "for i in np.arange(repetitions):\n",
        "    sampled_data = np.append(sampled_data, roll_dice())\n",
        "    \n",
        "sampled_data"
      ],
      "execution_count": 13,
      "outputs": [
        {
          "output_type": "execute_result",
          "data": {
            "text/plain": [
              "array([4., 1., 2., 2., 2., 5., 5., 2., 3., 5., 4., 2., 4., 5., 1., 5., 6.,\n",
              "       1., 2., 2., 2., 3., 6., 5., 5., 1., 2., 1., 1., 4., 6., 1., 6., 2.,\n",
              "       6., 4., 3., 4., 4., 5., 6., 5., 2., 1., 5., 4., 1., 1., 4., 5., 6.,\n",
              "       4., 2., 5., 4., 4., 2., 6., 3., 1., 3., 2., 5., 2., 6., 4., 1., 6.,\n",
              "       3., 1., 2., 5., 5., 3., 1., 3., 2., 3., 2., 6., 2., 5., 1., 3., 6.,\n",
              "       6., 3., 1., 6., 2., 3., 1., 1., 3., 5., 2., 2., 5., 2., 5.])"
            ]
          },
          "metadata": {},
          "execution_count": 13
        }
      ]
    },
    {
      "cell_type": "code",
      "metadata": {
        "trusted": true,
        "id": "iS82NhVtHLUh",
        "colab": {
          "base_uri": "https://localhost:8080/"
        },
        "outputId": "2d1d31a2-ce0b-4575-d311-7c34fd281c53"
      },
      "source": [
        "# A Simpler approach but cannot be a replacement for np.append in most cases.\n",
        "dice_faces = np.arange(1, 7)\n",
        "sampled_data = np.random.choice(dice_faces, 100)\n",
        "sampled_data"
      ],
      "execution_count": 14,
      "outputs": [
        {
          "output_type": "execute_result",
          "data": {
            "text/plain": [
              "array([4, 3, 1, 5, 1, 4, 5, 6, 1, 4, 6, 5, 6, 6, 2, 6, 6, 5, 1, 3, 2, 3,\n",
              "       3, 5, 3, 1, 1, 2, 4, 6, 2, 4, 1, 1, 1, 4, 1, 2, 4, 4, 4, 6, 2, 3,\n",
              "       3, 2, 4, 4, 5, 2, 1, 5, 2, 3, 1, 6, 5, 3, 3, 2, 3, 4, 4, 4, 4, 3,\n",
              "       2, 1, 4, 6, 5, 1, 3, 4, 6, 5, 1, 4, 6, 3, 2, 1, 6, 6, 1, 6, 6, 6,\n",
              "       6, 4, 1, 1, 5, 6, 4, 5, 3, 3, 1, 3])"
            ]
          },
          "metadata": {},
          "execution_count": 14
        }
      ]
    },
    {
      "cell_type": "code",
      "metadata": {
        "trusted": true,
        "id": "_o2ZwDuQHLUn",
        "colab": {
          "base_uri": "https://localhost:8080/"
        },
        "outputId": "ac3310e6-0311-4e65-8fec-edd3e146fac2"
      },
      "source": [
        "np.count_nonzero(sampled_data == 3)"
      ],
      "execution_count": 15,
      "outputs": [
        {
          "output_type": "execute_result",
          "data": {
            "text/plain": [
              "17"
            ]
          },
          "metadata": {},
          "execution_count": 15
        }
      ]
    },
    {
      "cell_type": "code",
      "metadata": {
        "id": "RjwIlOzbVZKv",
        "colab": {
          "base_uri": "https://localhost:8080/",
          "height": 370
        },
        "outputId": "85c9cc35-387c-4ec7-a180-1b91958bc6ee"
      },
      "source": [
        "# Find the the number of times we hit the 3rd face in a game out of 100 repeats.\n",
        "# Does it change outcome if we tried this 50,000 times?\n",
        "\n",
        "def get_face_3():\n",
        "    dice_faces = np.arange(1, 7)\n",
        "    initial_sampled_data = np.random.choice(dice_faces, 100)\n",
        "    return np.count_nonzero(initial_sampled_data == 3)\n",
        "\n",
        "sampled_data = make_array()\n",
        "\n",
        "repetitions = 50000\n",
        "for i in np.arange(repetitions):\n",
        "    sampled_data = np.append(sampled_data, get_face_3())\n",
        "    \n",
        "myTable = Table().with_column(\n",
        "    'Face 1 in a Random Sample', sampled_data.astype(int)\n",
        ").hist(bins = int(max(sampled_data)-min(sampled_data)))\n",
        "\n",
        "print(\"Min: %d, Max: %d\" % (min(sampled_data), max(sampled_data)))\n",
        "print(\"Step: %f\" % ((max(sampled_data)-min(sampled_data))/30))\n",
        "print(\"Edges \", np.linspace(min(sampled_data), max(sampled_data), 10+1))\n",
        "print(\"Bins: %d \" % (int(max(sampled_data)-min(sampled_data))))\n",
        "# [2.0 2.7 3.4 4.1 4.8 5.5 6.2 6.9 7.6 8.3 9.0 ]"
      ],
      "execution_count": 16,
      "outputs": [
        {
          "output_type": "stream",
          "name": "stdout",
          "text": [
            "Min: 2, Max: 32\n",
            "Step: 1.000000\n",
            "Edges  [ 2.  5.  8. 11. 14. 17. 20. 23. 26. 29. 32.]\n",
            "Bins: 30 \n"
          ]
        },
        {
          "output_type": "display_data",
          "data": {
            "text/plain": [
              "<Figure size 432x288 with 1 Axes>"
            ],
            "image/png": "[encoded data removed]"
          },
          "metadata": {}
        }
      ]
    },
    {
      "cell_type": "code",
      "metadata": {
        "trusted": true,
        "id": "P-NezQYgHLUt",
        "colab": {
          "base_uri": "https://localhost:8080/",
          "height": 301
        },
        "outputId": "a583ac61-e20c-43c9-e262-f73df853f3c9"
      },
      "source": [
        "# Find the the number of times we hit the 3rd face in a game out of 100 repeats.\n",
        "# Does it change outcome if we tried this 50,000 times?\n",
        "\n",
        "def get_face_3():\n",
        "    dice_faces = np.arange(1, 7)\n",
        "    initial_sampled_data = np.random.choice(dice_faces, 100)\n",
        "    return np.count_nonzero(initial_sampled_data == 3)\n",
        "\n",
        "sampled_data = make_array()\n",
        "\n",
        "repetitions = 50000\n",
        "for i in np.arange(repetitions):\n",
        "    sampled_data = np.append(sampled_data, get_face_3())\n",
        "    \n",
        "Table().with_column(\n",
        "    'Face 1 in a Random Sample', sampled_data\n",
        ").hist(bins = 30)"
      ],
      "execution_count": 17,
      "outputs": [
        {
          "output_type": "display_data",
          "data": {
            "text/plain": [
              "<Figure size 432x288 with 1 Axes>"
            ],
            "image/png": "[encoded data removed]"
          },
          "metadata": {}
        }
      ]
    },
    {
      "cell_type": "markdown",
      "metadata": {
        "id": "-eFoFSXaHLU1"
      },
      "source": [
        "We can see that that histogram shows that the most occurence will fall within 16.67% or 1/6. But the outcomes range from 0 to 29%. An outcome of 35% is very unlikely.\n",
        "\n",
        "Lessons here (quotes from official text)\n",
        "\n",
        "1. **Law of Averages** - the empirical histogram of the statistic (median, mean) is likely to resemble the probability histogram of the statistic, if the sample size is large and if you repeat the random sampling process numerous times.\n",
        "2. Therefore simulating random processes repeatedly is a way of approximating probability distributions without figuring out the probabilities mathematically or generating all possible random samples."
      ]
    },
    {
      "cell_type": "markdown",
      "metadata": {
        "id": "KHlRKXnjHLU2"
      },
      "source": [
        "### Selecting records from a table (Determininstic/Random)\n",
        "\n",
        "\n"
      ]
    },
    {
      "cell_type": "code",
      "metadata": {
        "trusted": true,
        "id": "PB7nG9DBHLU3",
        "colab": {
          "base_uri": "https://localhost:8080/",
          "height": 392
        },
        "outputId": "46e2bbe1-d7ae-4aa8-af08-112adc27ede5"
      },
      "source": [
        "movies_path = \"https://gist.githubusercontent.com/tiangechen/b68782efa49a16edaf07dc2cdaa855ea/raw/0c794a9717f18b094eabab2cd6a6b9a226903577/movies.csv\"\n",
        "movie_dt = Table.read_table(movies_path)\n",
        "\n",
        "# Index the movies so it's easy to identify selected records.\n",
        "movie_indexed = movie_dt.with_column('index', np.arange(movie_dt.num_rows)).move_to_start('index')\n",
        "movie_indexed"
      ],
      "execution_count": 18,
      "outputs": [
        {
          "output_type": "execute_result",
          "data": {
            "text/plain": [
              "index | Film                               | Genre     | Lead Studio           | Audience score % | Profitability | Rotten Tomatoes % | Worldwide Gross | Year\n",
              "0     | Zack and Miri Make a Porno         | Romance   | The Weinstein Company | 70               | 1.74754       | 64                | $41.94          | 2008\n",
              "1     | Youth in Revolt                    | Comedy    | The Weinstein Company | 52               | 1.09          | 68                | $19.62          | 2010\n",
              "2     | You Will Meet a Tall Dark Stranger | Comedy    | Independent           | 35               | 1.21182       | 43                | $26.66          | 2010\n",
              "3     | When in Rome                       | Comedy    | Disney                | 44               | 0             | 15                | $43.04          | 2010\n",
              "4     | What Happens in Vegas              | Comedy    | Fox                   | 72               | 6.26765       | 28                | $219.37         | 2008\n",
              "5     | Water For Elephants                | Drama     | 20th Century Fox      | 72               | 3.08142       | 60                | $117.09         | 2011\n",
              "6     | WALL-E                             | Animation | Disney                | 89               | 2.89602       | 96                | $521.28         | 2008\n",
              "7     | Waitress                           | Romance   | Independent           | 67               | 11.0897       | 89                | $22.18          | 2007\n",
              "8     | Waiting For Forever                | Romance   | Independent           | 53               | 0.005         | 6                 | $0.03           | 2011\n",
              "9     | Valentine's Day                    | Comedy    | Warner Bros.          | 54               | 4.18404       | 17                | $217.57         | 2010\n",
              "... (67 rows omitted)"
            ],
            "text/html": [
              "<table border=\"1\" class=\"dataframe\">\n",
              "    <thead>\n",
              "        <tr>\n",
              "            <th>index</th> <th>Film</th> <th>Genre</th> <th>Lead Studio</th> <th>Audience score %</th> <th>Profitability</th> <th>Rotten Tomatoes %</th> <th>Worldwide Gross</th> <th>Year</th>\n",
              "        </tr>\n",
              "    </thead>\n",
              "    <tbody>\n",
              "        <tr>\n",
              "            <td>0    </td> <td>Zack and Miri Make a Porno        </td> <td>Romance  </td> <td>The Weinstein Company</td> <td>70              </td> <td>1.74754      </td> <td>64               </td> <td>$41.94         </td> <td>2008</td>\n",
              "        </tr>\n",
              "        <tr>\n",
              "            <td>1    </td> <td>Youth in Revolt                   </td> <td>Comedy   </td> <td>The Weinstein Company</td> <td>52              </td> <td>1.09         </td> <td>68               </td> <td>$19.62         </td> <td>2010</td>\n",
              "        </tr>\n",
              "        <tr>\n",
              "            <td>2    </td> <td>You Will Meet a Tall Dark Stranger</td> <td>Comedy   </td> <td>Independent          </td> <td>35              </td> <td>1.21182      </td> <td>43               </td> <td>$26.66         </td> <td>2010</td>\n",
              "        </tr>\n",
              "        <tr>\n",
              "            <td>3    </td> <td>When in Rome                      </td> <td>Comedy   </td> <td>Disney               </td> <td>44              </td> <td>0            </td> <td>15               </td> <td>$43.04         </td> <td>2010</td>\n",
              "        </tr>\n",
              "        <tr>\n",
              "            <td>4    </td> <td>What Happens in Vegas             </td> <td>Comedy   </td> <td>Fox                  </td> <td>72              </td> <td>6.26765      </td> <td>28               </td> <td>$219.37        </td> <td>2008</td>\n",
              "        </tr>\n",
              "        <tr>\n",
              "            <td>5    </td> <td>Water For Elephants               </td> <td>Drama    </td> <td>20th Century Fox     </td> <td>72              </td> <td>3.08142      </td> <td>60               </td> <td>$117.09        </td> <td>2011</td>\n",
              "        </tr>\n",
              "        <tr>\n",
              "            <td>6    </td> <td>WALL-E                            </td> <td>Animation</td> <td>Disney               </td> <td>89              </td> <td>2.89602      </td> <td>96               </td> <td>$521.28        </td> <td>2008</td>\n",
              "        </tr>\n",
              "        <tr>\n",
              "            <td>7    </td> <td>Waitress                          </td> <td>Romance  </td> <td>Independent          </td> <td>67              </td> <td>11.0897      </td> <td>89               </td> <td>$22.18         </td> <td>2007</td>\n",
              "        </tr>\n",
              "        <tr>\n",
              "            <td>8    </td> <td>Waiting For Forever               </td> <td>Romance  </td> <td>Independent          </td> <td>53              </td> <td>0.005        </td> <td>6                </td> <td>$0.03          </td> <td>2011</td>\n",
              "        </tr>\n",
              "        <tr>\n",
              "            <td>9    </td> <td>Valentine's Day                   </td> <td>Comedy   </td> <td>Warner Bros.         </td> <td>54              </td> <td>4.18404      </td> <td>17               </td> <td>$217.57        </td> <td>2010</td>\n",
              "        </tr>\n",
              "    </tbody>\n",
              "</table>\n",
              "<p>... (67 rows omitted)</p>"
            ]
          },
          "metadata": {},
          "execution_count": 18
        }
      ]
    },
    {
      "cell_type": "code",
      "metadata": {
        "trusted": true,
        "id": "1ZwT2CymHLU-",
        "colab": {
          "base_uri": "https://localhost:8080/",
          "height": 175
        },
        "outputId": "3776a1e1-1f24-4a03-c38c-ebdd2a6ce961"
      },
      "source": [
        "# Deterministic Sampling example - Essentially picking up some rows.\n",
        "movie_indexed.take(make_array(0,10,50,67))"
      ],
      "execution_count": 19,
      "outputs": [
        {
          "output_type": "execute_result",
          "data": {
            "text/plain": [
              "index | Film                                | Genre   | Lead Studio           | Audience score % | Profitability | Rotten Tomatoes % | Worldwide Gross | Year\n",
              "0     | Zack and Miri Make a Porno          | Romance | The Weinstein Company | 70               | 1.74754       | 64                | $41.94          | 2008\n",
              "10    | Tyler Perry's Why Did I get Married | Romance | Independent           | 47               | 3.72419       | 46                | $55.86          | 2007\n",
              "50    | Life as We Know It                  | Comedy  | Independent           | 62               | 2.53053       | 28                | $96.16          | 2010\n",
              "67    | Four Christmases                    | Comedy  | Warner Bros.          | 52               | 2.02292       | 26                | $161.83         | 2008"
            ],
            "text/html": [
              "<table border=\"1\" class=\"dataframe\">\n",
              "    <thead>\n",
              "        <tr>\n",
              "            <th>index</th> <th>Film</th> <th>Genre</th> <th>Lead Studio</th> <th>Audience score %</th> <th>Profitability</th> <th>Rotten Tomatoes %</th> <th>Worldwide Gross</th> <th>Year</th>\n",
              "        </tr>\n",
              "    </thead>\n",
              "    <tbody>\n",
              "        <tr>\n",
              "            <td>0    </td> <td>Zack and Miri Make a Porno         </td> <td>Romance</td> <td>The Weinstein Company</td> <td>70              </td> <td>1.74754      </td> <td>64               </td> <td>$41.94         </td> <td>2008</td>\n",
              "        </tr>\n",
              "        <tr>\n",
              "            <td>10   </td> <td>Tyler Perry's Why Did I get Married</td> <td>Romance</td> <td>Independent          </td> <td>47              </td> <td>3.72419      </td> <td>46               </td> <td>$55.86         </td> <td>2007</td>\n",
              "        </tr>\n",
              "        <tr>\n",
              "            <td>50   </td> <td>Life as We Know It                 </td> <td>Comedy </td> <td>Independent          </td> <td>62              </td> <td>2.53053      </td> <td>28               </td> <td>$96.16         </td> <td>2010</td>\n",
              "        </tr>\n",
              "        <tr>\n",
              "            <td>67   </td> <td>Four Christmases                   </td> <td>Comedy </td> <td>Warner Bros.         </td> <td>52              </td> <td>2.02292      </td> <td>26               </td> <td>$161.83        </td> <td>2008</td>\n",
              "        </tr>\n",
              "    </tbody>\n",
              "</table>"
            ]
          },
          "metadata": {},
          "execution_count": 19
        }
      ]
    },
    {
      "cell_type": "code",
      "metadata": {
        "trusted": true,
        "id": "57NZUtDBHLVE",
        "colab": {
          "base_uri": "https://localhost:8080/",
          "height": 392
        },
        "outputId": "10d3d8f3-6fe6-4c21-af12-8dca79f7ee82"
      },
      "source": [
        "# Deterministic sampling examples - Using a conditional expression\n",
        "movie_indexed.where('Audience score %', are.above(70))"
      ],
      "execution_count": 20,
      "outputs": [
        {
          "output_type": "execute_result",
          "data": {
            "text/plain": [
              "index | Film                                | Genre     | Lead Studio      | Audience score % | Profitability | Rotten Tomatoes % | Worldwide Gross | Year\n",
              "4     | What Happens in Vegas               | Comedy    | Fox              | 72               | 6.26765       | 28                | $219.37         | 2008\n",
              "5     | Water For Elephants                 | Drama     | 20th Century Fox | 72               | 3.08142       | 60                | $117.09         | 2011\n",
              "6     | WALL-E                              | Animation | Disney           | 89               | 2.89602       | 96                | $521.28         | 2008\n",
              "12    | Twilight                            | Romance   | Summit           | 82               | 10.18         | 49                | $376.66         | 2008\n",
              "14    | The Twilight Saga: New Moon         | Drama     | Summit           | 78               | 14.1964       | 27                | $709.82         | 2009\n",
              "16    | The Proposal                        | Comedy    | Disney           | 74               | 7.8675        | 43                | $314.70         | 2009\n",
              "20    | The Curious Case of Benjamin Button | Fantasy   | Warner Bros.     | 81               | 1.78394       | 73                | $285.43         | 2008\n",
              "22    | Tangled                             | Animation | Disney           | 88               | 1.36569       | 89                | $355.01         | 2010\n",
              "27    | Sex and the City                    | Comedy    | Warner Bros.     | 81               | 7.2218        | 49                | $415.25         | 2008\n",
              "30    | Penelope                            | Comedy    | Summit           | 74               | 1.3828        | 52                | $20.74          | 2008\n",
              "... (15 rows omitted)"
            ],
            "text/html": [
              "<table border=\"1\" class=\"dataframe\">\n",
              "    <thead>\n",
              "        <tr>\n",
              "            <th>index</th> <th>Film</th> <th>Genre</th> <th>Lead Studio</th> <th>Audience score %</th> <th>Profitability</th> <th>Rotten Tomatoes %</th> <th>Worldwide Gross</th> <th>Year</th>\n",
              "        </tr>\n",
              "    </thead>\n",
              "    <tbody>\n",
              "        <tr>\n",
              "            <td>4    </td> <td>What Happens in Vegas              </td> <td>Comedy   </td> <td>Fox             </td> <td>72              </td> <td>6.26765      </td> <td>28               </td> <td>$219.37        </td> <td>2008</td>\n",
              "        </tr>\n",
              "        <tr>\n",
              "            <td>5    </td> <td>Water For Elephants                </td> <td>Drama    </td> <td>20th Century Fox</td> <td>72              </td> <td>3.08142      </td> <td>60               </td> <td>$117.09        </td> <td>2011</td>\n",
              "        </tr>\n",
              "        <tr>\n",
              "            <td>6    </td> <td>WALL-E                             </td> <td>Animation</td> <td>Disney          </td> <td>89              </td> <td>2.89602      </td> <td>96               </td> <td>$521.28        </td> <td>2008</td>\n",
              "        </tr>\n",
              "        <tr>\n",
              "            <td>12   </td> <td>Twilight                           </td> <td>Romance  </td> <td>Summit          </td> <td>82              </td> <td>10.18        </td> <td>49               </td> <td>$376.66        </td> <td>2008</td>\n",
              "        </tr>\n",
              "        <tr>\n",
              "            <td>14   </td> <td>The Twilight Saga: New Moon        </td> <td>Drama    </td> <td>Summit          </td> <td>78              </td> <td>14.1964      </td> <td>27               </td> <td>$709.82        </td> <td>2009</td>\n",
              "        </tr>\n",
              "        <tr>\n",
              "            <td>16   </td> <td>The Proposal                       </td> <td>Comedy   </td> <td>Disney          </td> <td>74              </td> <td>7.8675       </td> <td>43               </td> <td>$314.70        </td> <td>2009</td>\n",
              "        </tr>\n",
              "        <tr>\n",
              "            <td>20   </td> <td>The Curious Case of Benjamin Button</td> <td>Fantasy  </td> <td>Warner Bros.    </td> <td>81              </td> <td>1.78394      </td> <td>73               </td> <td>$285.43        </td> <td>2008</td>\n",
              "        </tr>\n",
              "        <tr>\n",
              "            <td>22   </td> <td>Tangled                            </td> <td>Animation</td> <td>Disney          </td> <td>88              </td> <td>1.36569      </td> <td>89               </td> <td>$355.01        </td> <td>2010</td>\n",
              "        </tr>\n",
              "        <tr>\n",
              "            <td>27   </td> <td>Sex and the City                   </td> <td>Comedy   </td> <td>Warner Bros.    </td> <td>81              </td> <td>7.2218       </td> <td>49               </td> <td>$415.25        </td> <td>2008</td>\n",
              "        </tr>\n",
              "        <tr>\n",
              "            <td>30   </td> <td>Penelope                           </td> <td>Comedy   </td> <td>Summit          </td> <td>74              </td> <td>1.3828       </td> <td>52               </td> <td>$20.74         </td> <td>2008</td>\n",
              "        </tr>\n",
              "    </tbody>\n",
              "</table>\n",
              "<p>... (15 rows omitted)</p>"
            ]
          },
          "metadata": {},
          "execution_count": 20
        }
      ]
    },
    {
      "cell_type": "code",
      "metadata": {
        "trusted": true,
        "id": "-4k8un1BHLVz",
        "colab": {
          "base_uri": "https://localhost:8080/",
          "height": 676
        },
        "outputId": "824285de-bb5e-4faf-9623-045fafdcc026"
      },
      "source": [
        "# Randomly picking a collection of 20 elements from our dataset.\n",
        "random_indices = np.random.randint(67, size=20)\n",
        "\n",
        "# Pull the random indices.\n",
        "movie_indexed.take(random_indices).show(20)"
      ],
      "execution_count": 21,
      "outputs": [
        {
          "output_type": "display_data",
          "data": {
            "text/plain": [
              "<IPython.core.display.HTML object>"
            ],
            "text/html": [
              "<table border=\"1\" class=\"dataframe\">\n",
              "    <thead>\n",
              "        <tr>\n",
              "            <th>index</th> <th>Film</th> <th>Genre</th> <th>Lead Studio</th> <th>Audience score %</th> <th>Profitability</th> <th>Rotten Tomatoes %</th> <th>Worldwide Gross</th> <th>Year</th>\n",
              "        </tr>\n",
              "    </thead>\n",
              "    <tbody>\n",
              "        <tr>\n",
              "            <td>38   </td> <td>New Year's Eve                     </td> <td>Romance  </td> <td>Warner Bros.         </td> <td>48              </td> <td>2.53643      </td> <td>8                </td> <td>$142.04        </td> <td>2011</td>\n",
              "        </tr>\n",
              "        <tr>\n",
              "            <td>10   </td> <td>Tyler Perry's Why Did I get Married</td> <td>Romance  </td> <td>Independent          </td> <td>47              </td> <td>3.72419      </td> <td>46               </td> <td>$55.86         </td> <td>2007</td>\n",
              "        </tr>\n",
              "        <tr>\n",
              "            <td>18   </td> <td>The Heartbreak Kid                 </td> <td>Comedy   </td> <td>Paramount            </td> <td>41              </td> <td>2.12944      </td> <td>30               </td> <td>$127.77        </td> <td>2007</td>\n",
              "        </tr>\n",
              "        <tr>\n",
              "            <td>41   </td> <td>Monte Carlo                        </td> <td>Romance  </td> <td>20th Century Fox     </td> <td>50              </td> <td>1.9832       </td> <td>38               </td> <td>$39.66         </td> <td>2011</td>\n",
              "        </tr>\n",
              "        <tr>\n",
              "            <td>56   </td> <td>Just Wright                        </td> <td>Comedy   </td> <td>Fox                  </td> <td>58              </td> <td>1.79742      </td> <td>45               </td> <td>$21.57         </td> <td>2010</td>\n",
              "        </tr>\n",
              "        <tr>\n",
              "            <td>64   </td> <td>Gnomeo and Juliet                  </td> <td>Animation</td> <td>Disney               </td> <td>52              </td> <td>5.38797      </td> <td>56               </td> <td>$193.97        </td> <td>2011</td>\n",
              "        </tr>\n",
              "        <tr>\n",
              "            <td>27   </td> <td>Sex and the City                   </td> <td>Comedy   </td> <td>Warner Bros.         </td> <td>81              </td> <td>7.2218       </td> <td>49               </td> <td>$415.25        </td> <td>2008</td>\n",
              "        </tr>\n",
              "        <tr>\n",
              "            <td>35   </td> <td>Not Easily Broken                  </td> <td>Drama    </td> <td>Independent          </td> <td>66              </td> <td>2.14         </td> <td>34               </td> <td>$10.70         </td> <td>2009</td>\n",
              "        </tr>\n",
              "        <tr>\n",
              "            <td>35   </td> <td>Not Easily Broken                  </td> <td>Drama    </td> <td>Independent          </td> <td>66              </td> <td>2.14         </td> <td>34               </td> <td>$10.70         </td> <td>2009</td>\n",
              "        </tr>\n",
              "        <tr>\n",
              "            <td>11   </td> <td>Twilight: Breaking Dawn            </td> <td>Romance  </td> <td>Independent          </td> <td>68              </td> <td>6.38336      </td> <td>26               </td> <td>$702.17        </td> <td>2011</td>\n",
              "        </tr>\n",
              "        <tr>\n",
              "            <td>42   </td> <td>Miss Pettigrew Lives for a Day     </td> <td>Comedy   </td> <td>Independent          </td> <td>70              </td> <td>0.252895     </td> <td>78               </td> <td>$15.17         </td> <td>2008</td>\n",
              "        </tr>\n",
              "        <tr>\n",
              "            <td>41   </td> <td>Monte Carlo                        </td> <td>Romance  </td> <td>20th Century Fox     </td> <td>50              </td> <td>1.9832       </td> <td>38               </td> <td>$39.66         </td> <td>2011</td>\n",
              "        </tr>\n",
              "        <tr>\n",
              "            <td>43   </td> <td>Midnight in Paris                  </td> <td>Romence  </td> <td>Sony                 </td> <td>84              </td> <td>8.74471      </td> <td>93               </td> <td>$148.66        </td> <td>2011</td>\n",
              "        </tr>\n",
              "        <tr>\n",
              "            <td>51   </td> <td>License to Wed                     </td> <td>Comedy   </td> <td>Warner Bros.         </td> <td>55              </td> <td>1.98021      </td> <td>8                </td> <td>$69.31         </td> <td>2007</td>\n",
              "        </tr>\n",
              "        <tr>\n",
              "            <td>0    </td> <td>Zack and Miri Make a Porno         </td> <td>Romance  </td> <td>The Weinstein Company</td> <td>70              </td> <td>1.74754      </td> <td>64               </td> <td>$41.94         </td> <td>2008</td>\n",
              "        </tr>\n",
              "        <tr>\n",
              "            <td>36   </td> <td>No Reservations                    </td> <td>Comedy   </td> <td>Warner Bros.         </td> <td>64              </td> <td>3.30718      </td> <td>39               </td> <td>$92.60         </td> <td>2007</td>\n",
              "        </tr>\n",
              "        <tr>\n",
              "            <td>46   </td> <td>Mamma Mia!                         </td> <td>Comedy   </td> <td>Universal            </td> <td>76              </td> <td>9.23445      </td> <td>53               </td> <td>$609.47        </td> <td>2008</td>\n",
              "        </tr>\n",
              "        <tr>\n",
              "            <td>38   </td> <td>New Year's Eve                     </td> <td>Romance  </td> <td>Warner Bros.         </td> <td>48              </td> <td>2.53643      </td> <td>8                </td> <td>$142.04        </td> <td>2011</td>\n",
              "        </tr>\n",
              "        <tr>\n",
              "            <td>10   </td> <td>Tyler Perry's Why Did I get Married</td> <td>Romance  </td> <td>Independent          </td> <td>47              </td> <td>3.72419      </td> <td>46               </td> <td>$55.86         </td> <td>2007</td>\n",
              "        </tr>\n",
              "        <tr>\n",
              "            <td>18   </td> <td>The Heartbreak Kid                 </td> <td>Comedy   </td> <td>Paramount            </td> <td>41              </td> <td>2.12944      </td> <td>30               </td> <td>$127.77        </td> <td>2007</td>\n",
              "        </tr>\n",
              "    </tbody>\n",
              "</table>"
            ]
          },
          "metadata": {}
        }
      ]
    },
    {
      "cell_type": "markdown",
      "metadata": {
        "id": "g6_i3s9ZHLWD"
      },
      "source": [
        "### Sampling from a population can be done with or without replacement\n",
        "np.random.choice, np.random.randint, etc all samples with replacement."
      ]
    },
    {
      "cell_type": "code",
      "metadata": {
        "trusted": true,
        "id": "BoyAHQHLHLWE",
        "colab": {
          "base_uri": "https://localhost:8080/",
          "height": 392
        },
        "outputId": "6f3dbc25-58a6-4ac0-f9eb-384d2c5ba3cf"
      },
      "source": [
        "# Table library sample() method allows us to sample the records with replacement\n",
        "movie_indexed.sample(20)"
      ],
      "execution_count": 22,
      "outputs": [
        {
          "output_type": "execute_result",
          "data": {
            "text/plain": [
              "index | Film                               | Genre     | Lead Studio           | Audience score % | Profitability | Rotten Tomatoes % | Worldwide Gross | Year\n",
              "67    | Four Christmases                   | Comedy    | Warner Bros.          | 52               | 2.02292       | 26                | $161.83         | 2008\n",
              "60    | High School Musical 3: Senior Year | Comedy    | Disney                | 76               | 22.9131       | 65                | $252.04         | 2008\n",
              "14    | The Twilight Saga: New Moon        | Drama     | Summit                | 78               | 14.1964       | 27                | $709.82         | 2009\n",
              "12    | Twilight                           | Romance   | Summit                | 82               | 10.18         | 49                | $376.66         | 2008\n",
              "19    | The Duchess                        | Drama     | Paramount             | 68               | 3.20785       | 60                | $43.31          | 2008\n",
              "41    | Monte Carlo                        | Romance   | 20th Century Fox      | 50               | 1.9832        | 38                | $39.66          | 2011\n",
              "65    | Gnomeo and Juliet                  | Animation | Disney                | 52               | 5.38797       | 56                | $193.97         | 2011\n",
              "60    | High School Musical 3: Senior Year | Comedy    | Disney                | 76               | 22.9131       | 65                | $252.04         | 2008\n",
              "19    | The Duchess                        | Drama     | Paramount             | 68               | 3.20785       | 60                | $43.31          | 2008\n",
              "0     | Zack and Miri Make a Porno         | Romance   | The Weinstein Company | 70               | 1.74754       | 64                | $41.94          | 2008\n",
              "... (10 rows omitted)"
            ],
            "text/html": [
              "<table border=\"1\" class=\"dataframe\">\n",
              "    <thead>\n",
              "        <tr>\n",
              "            <th>index</th> <th>Film</th> <th>Genre</th> <th>Lead Studio</th> <th>Audience score %</th> <th>Profitability</th> <th>Rotten Tomatoes %</th> <th>Worldwide Gross</th> <th>Year</th>\n",
              "        </tr>\n",
              "    </thead>\n",
              "    <tbody>\n",
              "        <tr>\n",
              "            <td>67   </td> <td>Four Christmases                  </td> <td>Comedy   </td> <td>Warner Bros.         </td> <td>52              </td> <td>2.02292      </td> <td>26               </td> <td>$161.83        </td> <td>2008</td>\n",
              "        </tr>\n",
              "        <tr>\n",
              "            <td>60   </td> <td>High School Musical 3: Senior Year</td> <td>Comedy   </td> <td>Disney               </td> <td>76              </td> <td>22.9131      </td> <td>65               </td> <td>$252.04        </td> <td>2008</td>\n",
              "        </tr>\n",
              "        <tr>\n",
              "            <td>14   </td> <td>The Twilight Saga: New Moon       </td> <td>Drama    </td> <td>Summit               </td> <td>78              </td> <td>14.1964      </td> <td>27               </td> <td>$709.82        </td> <td>2009</td>\n",
              "        </tr>\n",
              "        <tr>\n",
              "            <td>12   </td> <td>Twilight                          </td> <td>Romance  </td> <td>Summit               </td> <td>82              </td> <td>10.18        </td> <td>49               </td> <td>$376.66        </td> <td>2008</td>\n",
              "        </tr>\n",
              "        <tr>\n",
              "            <td>19   </td> <td>The Duchess                       </td> <td>Drama    </td> <td>Paramount            </td> <td>68              </td> <td>3.20785      </td> <td>60               </td> <td>$43.31         </td> <td>2008</td>\n",
              "        </tr>\n",
              "        <tr>\n",
              "            <td>41   </td> <td>Monte Carlo                       </td> <td>Romance  </td> <td>20th Century Fox     </td> <td>50              </td> <td>1.9832       </td> <td>38               </td> <td>$39.66         </td> <td>2011</td>\n",
              "        </tr>\n",
              "        <tr>\n",
              "            <td>65   </td> <td>Gnomeo and Juliet                 </td> <td>Animation</td> <td>Disney               </td> <td>52              </td> <td>5.38797      </td> <td>56               </td> <td>$193.97        </td> <td>2011</td>\n",
              "        </tr>\n",
              "        <tr>\n",
              "            <td>60   </td> <td>High School Musical 3: Senior Year</td> <td>Comedy   </td> <td>Disney               </td> <td>76              </td> <td>22.9131      </td> <td>65               </td> <td>$252.04        </td> <td>2008</td>\n",
              "        </tr>\n",
              "        <tr>\n",
              "            <td>19   </td> <td>The Duchess                       </td> <td>Drama    </td> <td>Paramount            </td> <td>68              </td> <td>3.20785      </td> <td>60               </td> <td>$43.31         </td> <td>2008</td>\n",
              "        </tr>\n",
              "        <tr>\n",
              "            <td>0    </td> <td>Zack and Miri Make a Porno        </td> <td>Romance  </td> <td>The Weinstein Company</td> <td>70              </td> <td>1.74754      </td> <td>64               </td> <td>$41.94         </td> <td>2008</td>\n",
              "        </tr>\n",
              "    </tbody>\n",
              "</table>\n",
              "<p>... (10 rows omitted)</p>"
            ]
          },
          "metadata": {},
          "execution_count": 22
        }
      ]
    },
    {
      "cell_type": "code",
      "metadata": {
        "trusted": true,
        "id": "1I1TUtKiHLWN",
        "colab": {
          "base_uri": "https://localhost:8080/",
          "height": 392
        },
        "outputId": "ebad309e-c844-45cb-92eb-07b866b638d5"
      },
      "source": [
        "# Sampling without replacement.\n",
        "movie_indexed.sample(20, with_replacement=False)"
      ],
      "execution_count": 23,
      "outputs": [
        {
          "output_type": "execute_result",
          "data": {
            "text/plain": [
              "index | Film                                | Genre   | Lead Studio           | Audience score % | Profitability | Rotten Tomatoes % | Worldwide Gross | Year\n",
              "7     | Waitress                            | Romance | Independent           | 67               | 11.0897       | 89                | $22.18          | 2007\n",
              "59    | I Love You Phillip Morris           | Comedy  | Independent           | 57               | 1.34          | 71                | $20.10          | 2010\n",
              "41    | Monte Carlo                         | Romance | 20th Century Fox      | 50               | 1.9832        | 38                | $39.66          | 2011\n",
              "20    | The Curious Case of Benjamin Button | Fantasy | Warner Bros.          | 81               | 1.78394       | 73                | $285.43         | 2008\n",
              "30    | Penelope                            | Comedy  | Summit                | 74               | 1.3828        | 52                | $20.74          | 2008\n",
              "54    | Knocked Up                          | Comedy  | Universal             | 83               | 6.6364        | 91                | $219            | 2007\n",
              "1     | Youth in Revolt                     | Comedy  | The Weinstein Company | 52               | 1.09          | 68                | $19.62          | 2010\n",
              "45    | Mamma Mia!                          | Comedy  | Universal             | 76               | 9.23445       | 53                | $609.47         | 2008\n",
              "63    | Going the Distance                  | Comedy  | Warner Bros.          | 56               | 1.31406       | 53                | $42.05          | 2010\n",
              "32    | Over Her Dead Body                  | Comedy  | New Line              | 47               | 2.071         | 15                | $20.71          | 2008\n",
              "... (10 rows omitted)"
            ],
            "text/html": [
              "<table border=\"1\" class=\"dataframe\">\n",
              "    <thead>\n",
              "        <tr>\n",
              "            <th>index</th> <th>Film</th> <th>Genre</th> <th>Lead Studio</th> <th>Audience score %</th> <th>Profitability</th> <th>Rotten Tomatoes %</th> <th>Worldwide Gross</th> <th>Year</th>\n",
              "        </tr>\n",
              "    </thead>\n",
              "    <tbody>\n",
              "        <tr>\n",
              "            <td>7    </td> <td>Waitress                           </td> <td>Romance</td> <td>Independent          </td> <td>67              </td> <td>11.0897      </td> <td>89               </td> <td>$22.18         </td> <td>2007</td>\n",
              "        </tr>\n",
              "        <tr>\n",
              "            <td>59   </td> <td>I Love You Phillip Morris          </td> <td>Comedy </td> <td>Independent          </td> <td>57              </td> <td>1.34         </td> <td>71               </td> <td>$20.10         </td> <td>2010</td>\n",
              "        </tr>\n",
              "        <tr>\n",
              "            <td>41   </td> <td>Monte Carlo                        </td> <td>Romance</td> <td>20th Century Fox     </td> <td>50              </td> <td>1.9832       </td> <td>38               </td> <td>$39.66         </td> <td>2011</td>\n",
              "        </tr>\n",
              "        <tr>\n",
              "            <td>20   </td> <td>The Curious Case of Benjamin Button</td> <td>Fantasy</td> <td>Warner Bros.         </td> <td>81              </td> <td>1.78394      </td> <td>73               </td> <td>$285.43        </td> <td>2008</td>\n",
              "        </tr>\n",
              "        <tr>\n",
              "            <td>30   </td> <td>Penelope                           </td> <td>Comedy </td> <td>Summit               </td> <td>74              </td> <td>1.3828       </td> <td>52               </td> <td>$20.74         </td> <td>2008</td>\n",
              "        </tr>\n",
              "        <tr>\n",
              "            <td>54   </td> <td>Knocked Up                         </td> <td>Comedy </td> <td>Universal            </td> <td>83              </td> <td>6.6364       </td> <td>91               </td> <td>$219           </td> <td>2007</td>\n",
              "        </tr>\n",
              "        <tr>\n",
              "            <td>1    </td> <td>Youth in Revolt                    </td> <td>Comedy </td> <td>The Weinstein Company</td> <td>52              </td> <td>1.09         </td> <td>68               </td> <td>$19.62         </td> <td>2010</td>\n",
              "        </tr>\n",
              "        <tr>\n",
              "            <td>45   </td> <td>Mamma Mia!                         </td> <td>Comedy </td> <td>Universal            </td> <td>76              </td> <td>9.23445      </td> <td>53               </td> <td>$609.47        </td> <td>2008</td>\n",
              "        </tr>\n",
              "        <tr>\n",
              "            <td>63   </td> <td>Going the Distance                 </td> <td>Comedy </td> <td>Warner Bros.         </td> <td>56              </td> <td>1.31406      </td> <td>53               </td> <td>$42.05         </td> <td>2010</td>\n",
              "        </tr>\n",
              "        <tr>\n",
              "            <td>32   </td> <td>Over Her Dead Body                 </td> <td>Comedy </td> <td>New Line             </td> <td>47              </td> <td>2.071        </td> <td>15               </td> <td>$20.71         </td> <td>2008</td>\n",
              "        </tr>\n",
              "    </tbody>\n",
              "</table>\n",
              "<p>... (10 rows omitted)</p>"
            ]
          },
          "metadata": {},
          "execution_count": 23
        }
      ]
    },
    {
      "cell_type": "code",
      "metadata": {
        "trusted": true,
        "scrolled": true,
        "id": "UBW8BK9tHLWU",
        "colab": {
          "base_uri": "https://localhost:8080/",
          "height": 392
        },
        "outputId": "3fa43059-e446-441b-be89-4603e5a14993"
      },
      "source": [
        "# Sampling without replacement. This should fail since we cannot take a larger sample than the population\n",
        "movie_dt.sample(100, with_replacement=True)"
      ],
      "execution_count": 24,
      "outputs": [
        {
          "output_type": "execute_result",
          "data": {
            "text/plain": [
              "Film                                | Genre     | Lead Studio  | Audience score % | Profitability | Rotten Tomatoes % | Worldwide Gross | Year\n",
              "(500) Days of Summer                | comedy    | Fox          | 81               | 8.096         | 87                | $60.72          | 2009\n",
              "Dear John                           | Drama     | Sony         | 66               | 4.5988        | 29                | $114.97         | 2010\n",
              "Waitress                            | Romance   | Independent  | 67               | 11.0897       | 89                | $22.18          | 2007\n",
              "Miss Pettigrew Lives for a Day      | Comedy    | Independent  | 70               | 0.252895      | 78                | $15.17          | 2008\n",
              "Tyler Perry's Why Did I get Married | Romance   | Independent  | 47               | 3.72419       | 46                | $55.86          | 2007\n",
              "The Duchess                         | Drama     | Paramount    | 68               | 3.20785       | 60                | $43.31          | 2008\n",
              "High School Musical 3: Senior Year  | Comedy    | Disney       | 76               | 22.9131       | 65                | $252.04         | 2008\n",
              "Going the Distance                  | Comedy    | Warner Bros. | 56               | 1.31406       | 53                | $42.05          | 2010\n",
              "A Serious Man                       | Drama     | Universal    | 64               | 4.38286       | 89                | $30.68          | 2009\n",
              "Gnomeo and Juliet                   | Animation | Disney       | 52               | 5.38797       | 56                | $193.97         | 2011\n",
              "... (90 rows omitted)"
            ],
            "text/html": [
              "<table border=\"1\" class=\"dataframe\">\n",
              "    <thead>\n",
              "        <tr>\n",
              "            <th>Film</th> <th>Genre</th> <th>Lead Studio</th> <th>Audience score %</th> <th>Profitability</th> <th>Rotten Tomatoes %</th> <th>Worldwide Gross</th> <th>Year</th>\n",
              "        </tr>\n",
              "    </thead>\n",
              "    <tbody>\n",
              "        <tr>\n",
              "            <td>(500) Days of Summer               </td> <td>comedy   </td> <td>Fox         </td> <td>81              </td> <td>8.096        </td> <td>87               </td> <td>$60.72         </td> <td>2009</td>\n",
              "        </tr>\n",
              "        <tr>\n",
              "            <td>Dear John                          </td> <td>Drama    </td> <td>Sony        </td> <td>66              </td> <td>4.5988       </td> <td>29               </td> <td>$114.97        </td> <td>2010</td>\n",
              "        </tr>\n",
              "        <tr>\n",
              "            <td>Waitress                           </td> <td>Romance  </td> <td>Independent </td> <td>67              </td> <td>11.0897      </td> <td>89               </td> <td>$22.18         </td> <td>2007</td>\n",
              "        </tr>\n",
              "        <tr>\n",
              "            <td>Miss Pettigrew Lives for a Day     </td> <td>Comedy   </td> <td>Independent </td> <td>70              </td> <td>0.252895     </td> <td>78               </td> <td>$15.17         </td> <td>2008</td>\n",
              "        </tr>\n",
              "        <tr>\n",
              "            <td>Tyler Perry's Why Did I get Married</td> <td>Romance  </td> <td>Independent </td> <td>47              </td> <td>3.72419      </td> <td>46               </td> <td>$55.86         </td> <td>2007</td>\n",
              "        </tr>\n",
              "        <tr>\n",
              "            <td>The Duchess                        </td> <td>Drama    </td> <td>Paramount   </td> <td>68              </td> <td>3.20785      </td> <td>60               </td> <td>$43.31         </td> <td>2008</td>\n",
              "        </tr>\n",
              "        <tr>\n",
              "            <td>High School Musical 3: Senior Year </td> <td>Comedy   </td> <td>Disney      </td> <td>76              </td> <td>22.9131      </td> <td>65               </td> <td>$252.04        </td> <td>2008</td>\n",
              "        </tr>\n",
              "        <tr>\n",
              "            <td>Going the Distance                 </td> <td>Comedy   </td> <td>Warner Bros.</td> <td>56              </td> <td>1.31406      </td> <td>53               </td> <td>$42.05         </td> <td>2010</td>\n",
              "        </tr>\n",
              "        <tr>\n",
              "            <td>A Serious Man                      </td> <td>Drama    </td> <td>Universal   </td> <td>64              </td> <td>4.38286      </td> <td>89               </td> <td>$30.68         </td> <td>2009</td>\n",
              "        </tr>\n",
              "        <tr>\n",
              "            <td>Gnomeo and Juliet                  </td> <td>Animation</td> <td>Disney      </td> <td>52              </td> <td>5.38797      </td> <td>56               </td> <td>$193.97        </td> <td>2011</td>\n",
              "        </tr>\n",
              "    </tbody>\n",
              "</table>\n",
              "<p>... (90 rows omitted)</p>"
            ]
          },
          "metadata": {},
          "execution_count": 24
        }
      ]
    },
    {
      "cell_type": "code",
      "metadata": {
        "trusted": true,
        "id": "tDOa006AHLWk"
      },
      "source": [
        ""
      ],
      "execution_count": null,
      "outputs": []
    }
  ]
}